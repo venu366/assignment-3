{
 "cells": [
  {
   "cell_type": "markdown",
   "id": "e1a5b9d1",
   "metadata": {},
   "source": [
    "# 1. Scenario: A company wants to analyze the sales performance of its products in different regions. They have collected the following data:\n",
    "   Region A: [10, 15, 12, 8, 14]\n",
    "   Region B: [18, 20, 16, 22, 25]\n",
    "   Calculate the mean sales for each region\n"
   ]
  },
  {
   "cell_type": "code",
   "execution_count": 3,
   "id": "550f5eef",
   "metadata": {},
   "outputs": [
    {
     "name": "stdout",
     "output_type": "stream",
     "text": [
      "Mean is : 11.8\n",
      "Mean is : 20.2\n"
     ]
    }
   ],
   "source": [
    "import statistics\n",
    " \n",
    "# list of positive integer numbers\n",
    "Region_a = [10,15,12,8,14]\n",
    "Region_b = [18,20,16,22,25]\n",
    " \n",
    "reg1 = statistics.mean(Region_a)\n",
    "reg2 = statistics.mean(Region_b)\n",
    "# Printing the mean\n",
    "print(\"Mean is :\", reg1)\n",
    "print(\"Mean is :\", reg2)"
   ]
  },
  {
   "cell_type": "markdown",
   "id": "06f8c7fc",
   "metadata": {},
   "source": [
    "# 2. Scenario: A survey is conducted to measure customer satisfaction on a scale of 1 to 5. The data collected is as follows:\n",
    "   [4, 5, 2, 3, 5, 4, 3, 2, 4, 5]\n",
    "   Calculate the mode of the survey responses.\n"
   ]
  },
  {
   "cell_type": "code",
   "execution_count": 7,
   "id": "e57edee6",
   "metadata": {},
   "outputs": [
    {
     "name": "stdout",
     "output_type": "stream",
     "text": [
      "Mode of given dataset is : 4\n"
     ]
    }
   ],
   "source": [
    "import statistics\n",
    "\n",
    "data=[4, 5, 2, 3, 5, 4, 3, 2, 4, 5]\n",
    "\n",
    "print(\"Mode of given dataset is :\" ,(statistics.mode(data)))"
   ]
  },
  {
   "cell_type": "markdown",
   "id": "bd9117af",
   "metadata": {},
   "source": [
    "# 3. Scenario: A company wants to compare the salaries of two departments. The salary data for Department A and Department B are as follows:\n",
    "   Department A: [5000, 6000, 5500, 7000]\n",
    "   Department B: [4500, 5500, 5800, 6000, 5200]\n",
    "   Calculate the median salary for each department.\n"
   ]
  },
  {
   "cell_type": "code",
   "execution_count": 8,
   "id": "405139b7",
   "metadata": {},
   "outputs": [
    {
     "name": "stdout",
     "output_type": "stream",
     "text": [
      "mean salary for department a : 5750.0\n",
      "mean salary for department b : 5500\n"
     ]
    }
   ],
   "source": [
    "import statistics\n",
    "Department_a = [5000, 6000, 5500, 7000]\n",
    "Department_b = [4500, 5500, 5800, 6000, 5200] \n",
    "\n",
    "print(\"mean salary for department a :\",(statistics.median(Department_a)))\n",
    "print(\"mean salary for department b :\",(statistics.median(Department_b)))\n"
   ]
  },
  {
   "cell_type": "markdown",
   "id": "47bf9eff",
   "metadata": {},
   "source": [
    "# 4. Scenario: A data analyst wants to determine the variability in the daily stock prices of a company. The data collected is as follows:\n",
    "   [25.5, 24.8, 26.1, 25.3, 24.9]\n",
    "   Calculate the range of the stock prices.\n"
   ]
  },
  {
   "cell_type": "code",
   "execution_count": 10,
   "id": "da34c6a6",
   "metadata": {},
   "outputs": [
    {
     "name": "stdout",
     "output_type": "stream",
     "text": [
      " The range of the data is :  1.3000000000000007\n"
     ]
    }
   ],
   "source": [
    "\n",
    "data = [25.5, 24.8, 26.1, 25.3, 24.9] \n",
    "\n",
    "range1 = max(data) - min(data)\n",
    "print(\" The range of the data is : \",range1)\n"
   ]
  },
  {
   "cell_type": "markdown",
   "id": "f7ad3519",
   "metadata": {},
   "source": [
    "# 5. Scenario: A study is conducted to compare the performance of two different teaching methods. The test scores of the students in each group are as follows:\n",
    "   Group A: [85, 90, 92, 88, 91]\n",
    "   Group B: [82, 88, 90, 86, 87]\n",
    "   Perform a t-test to determine if there is a significant difference in the mean scores between the two groups.\n"
   ]
  },
  {
   "cell_type": "code",
   "execution_count": 11,
   "id": "e9fd04d4",
   "metadata": {},
   "outputs": [
    {
     "data": {
      "text/plain": [
       "(1.4312528946642733, 0.19023970239078333, 8.0)"
      ]
     },
     "execution_count": 11,
     "metadata": {},
     "output_type": "execute_result"
    }
   ],
   "source": [
    "from statsmodels.stats.weightstats import ttest_ind\n",
    "\n",
    "group_a = [85, 90, 92, 88, 91] \n",
    "group_b = [82, 88, 90, 86, 87]\n",
    "\n",
    "ttest_ind(group_a, group_b)\n",
    "\n",
    "# The p-value of the test comes out to be equal to 0.190\n",
    "#which is greater than the significance level alpha (that is, 0.05).\n",
    "#This implies that we can say that the average  of students in one group is statistically\n",
    "#not different from the average  of students in another group. "
   ]
  },
  {
   "cell_type": "markdown",
   "id": "a7238e3f",
   "metadata": {},
   "source": [
    "# 6. Scenario: A company wants to analyze the relationship between advertising expenditure and sales. The data collected is as follows:\n",
    "   Advertising Expenditure (in thousands): [10, 15, 12, 8, 14]\n",
    "   Sales (in thousands): [25, 30, 28, 20, 26]\n",
    "   Calculate the correlation coefficient between advertising expenditure and sales.\n"
   ]
  },
  {
   "cell_type": "code",
   "execution_count": 15,
   "id": "53cd150a",
   "metadata": {},
   "outputs": [
    {
     "name": "stdout",
     "output_type": "stream",
     "text": [
      "The pearson's coeffient of the adv and sales inputs are: \n",
      " [[1.         0.87575114]\n",
      " [0.87575114 1.        ]]\n"
     ]
    }
   ],
   "source": [
    "import scipy.stats\n",
    "import numpy as np\n",
    "\n",
    "adv =  [10, 15, 12, 8, 14]\n",
    "sales = [25, 30, 28, 20, 26]\n",
    "\n",
    "pearsons_coefficient = np.corrcoef(adv, sales)\n",
    "print(\"The pearson's coeffient of the adv and sales inputs are: \\n\" ,pearsons_coefficient)"
   ]
  },
  {
   "cell_type": "markdown",
   "id": "1460f314",
   "metadata": {},
   "source": [
    "# 7. Scenario: A survey is conducted to measure the heights of a group of people. The data collected is as follows:\n",
    "   [160, 170, 165, 155, 175, 180, 170]\n",
    "   Calculate the standard deviation of the heights\n"
   ]
  },
  {
   "cell_type": "code",
   "execution_count": 16,
   "id": "800d39a0",
   "metadata": {},
   "outputs": [
    {
     "name": "stdout",
     "output_type": "stream",
     "text": [
      "Standard Deviation of sample is 8.591246929842246 \n"
     ]
    }
   ],
   "source": [
    "import statistics\n",
    " \n",
    "# creating a simple data - set\n",
    "sample = [160, 170, 165, 155, 175, 180, 170]\n",
    " \n",
    "# Prints standard deviation\n",
    "# xbar is set to default value of 1\n",
    "print(\"Standard Deviation of sample is % s \"\n",
    "                % (statistics.stdev(sample)))"
   ]
  },
  {
   "cell_type": "markdown",
   "id": "ae50ce14",
   "metadata": {},
   "source": [
    "# 8. Scenario: A company wants to analyze the relationship between employee tenure and job satisfaction. The data collected is as follows:\n",
    "   Employee Tenure (in years): [2, 3, 5, 4, 6, 2, 4]\n",
    "   Job Satisfaction (on a scale of 1 to 10): [7, 8, 6, 9, 5, 7, 6]\n",
    "   Perform a linear regression analysis to predict job satisfaction based on employee tenure.\n"
   ]
  },
  {
   "cell_type": "code",
   "execution_count": 35,
   "id": "d329a50e",
   "metadata": {},
   "outputs": [
    {
     "data": {
      "text/plain": [
       "array([[6.81818182],\n",
       "       [6.45454545],\n",
       "       [7.18181818]])"
      ]
     },
     "execution_count": 35,
     "metadata": {},
     "output_type": "execute_result"
    }
   ],
   "source": [
    "import pandas as pd \n",
    "import numpy as np\n",
    "from sklearn.model_selection import train_test_split\n",
    "from sklearn.linear_model import LinearRegression\n",
    "\n",
    "employee_Tenure = [2, 3, 5, 4, 6, 2, 4] \n",
    "job_Satisfaction = [7, 8, 6, 9, 5, 7, 6] \n",
    "data =pd.DataFrame({'employee_Tenure':[2, 3, 5, 4, 6, 2, 4],'job_Satisfaction':[7, 8, 6, 9, 5, 7, 6] })\n",
    "x = data.iloc[: , :-1]\n",
    "y = data.iloc[: , 1:2]\n",
    "X_train, X_test, y_train, y_test = train_test_split(x,y,test_size=1/3,random_state=0)\n",
    "regressor = LinearRegression()\n",
    "regressor.fit(X_train,y_train)\n",
    "y_pred = regressor.predict(X_test) \n",
    "y_pred"
   ]
  },
  {
   "cell_type": "markdown",
   "id": "d13dc49a",
   "metadata": {},
   "source": [
    "# 9. Scenario: A study is conducted to compare the effectiveness of two different medications. The recovery times of the patients in each group are as follows:\n",
    "   Medication A: [10, 12, 14, 11, 13]\n",
    "   Medication B: [15, 17, 16, 14, 18]\n",
    "   Perform an analysis of variance (ANOVA) to determine if there is a significant difference in the mean recovery times between the two medications.\n"
   ]
  },
  {
   "cell_type": "code",
   "execution_count": 36,
   "id": "decc3051",
   "metadata": {},
   "outputs": [
    {
     "data": {
      "text/plain": [
       "F_onewayResult(statistic=16.0, pvalue=0.003949772803445326)"
      ]
     },
     "execution_count": 36,
     "metadata": {},
     "output_type": "execute_result"
    }
   ],
   "source": [
    "from scipy.stats import f_oneway\n",
    "\n",
    "med_a = [10, 12, 14, 11, 13]\n",
    "med_b = [15, 17, 16, 14, 18]\n",
    "\n",
    "f_oneway(med_a , med_b)\n",
    "\n",
    "#The F statistic and p-value turn out to be equal to 16.0 and 0.0039 respectively.\n",
    "#Since the p-value is less than 0.05 hence we would reject the null hypothesis.\n",
    "#This implies that we have sufficient proof to say that there exists a difference in the performance among two different medications. "
   ]
  },
  {
   "cell_type": "markdown",
   "id": "d7d67d75",
   "metadata": {},
   "source": [
    "# 10. Scenario: A company wants to analyze customer feedback ratings on a scale of 1 to 10. The data collected is\n",
    "\n",
    " as follows:\n",
    "    [8, 9, 7, 6, 8, 10, 9, 8, 7, 8]\n",
    "    Calculate the 75th percentile of the feedback ratings.\n"
   ]
  },
  {
   "cell_type": "code",
   "execution_count": 37,
   "id": "a1ce081f",
   "metadata": {},
   "outputs": [
    {
     "name": "stdout",
     "output_type": "stream",
     "text": [
      "75th percentile of arr :  8.75\n"
     ]
    }
   ],
   "source": [
    "import numpy as np\n",
    "\n",
    "arr = [8, 9, 7, 6, 8, 10, 9, 8, 7, 8] \n",
    "\n",
    "print(\"75th percentile of arr : \",\n",
    "       np.percentile(arr, 75))"
   ]
  },
  {
   "cell_type": "markdown",
   "id": "902b0fa0",
   "metadata": {},
   "source": [
    "# 11. Scenario: A quality control department wants to test the weight consistency of a product. The weights of a sample of products are as follows:\n",
    "    [10.2, 9.8, 10.0, 10.5, 10.3, 10.1]\n",
    "    Perform a hypothesis test to determine if the mean weight differs significantly from 10 grams.\n"
   ]
  },
  {
   "cell_type": "code",
   "execution_count": 40,
   "id": "1230af3c",
   "metadata": {},
   "outputs": [
    {
     "name": "stdout",
     "output_type": "stream",
     "text": [
      "10.15\n",
      "P-value is:  1.0\n",
      "We can accept the null hypothesis\n"
     ]
    }
   ],
   "source": [
    "# h0(null hypethesis) - weight differs significantly from 10 grams \n",
    "# h1(alternate hypethesis) - weight not differs significantly from 10 grams\n",
    "\n",
    "from scipy.stats import ttest_1samp  \n",
    "import numpy as np \n",
    "\n",
    "sample = [10.2, 9.8, 10.0, 10.5, 10.3, 10.1]\n",
    "\n",
    "mean = np.mean(sample)\n",
    "print(mean)\n",
    "\n",
    " # Performing the T-Test   \n",
    "t_test, p_val = ttest_1samp(sample, 10.15)  \n",
    "print(\"P-value is: \", p_val) \n",
    "\n",
    "# taking the threshold value as 0.05 or 5%  \n",
    "if p_val < 0.05:      \n",
    "    print(\" We can reject the null hypothesis\")  \n",
    "else:  \n",
    "    print(\"We can accept the null hypothesis\") "
   ]
  },
  {
   "cell_type": "markdown",
   "id": "4129e09d",
   "metadata": {},
   "source": [
    "# 12. Scenario: A company wants to analyze the click-through rates of two different website designs. The number of clicks for each design is as follows:\n",
    "    Design A: [100, 120, 110, 90, 95]\n",
    "    Design B: [80, 85, 90, 95, 100]\n",
    "    Perform a chi-square test to determine if there is a significant difference in the click-through rates between the two designs\n"
   ]
  },
  {
   "cell_type": "code",
   "execution_count": 42,
   "id": "611edb0c",
   "metadata": {},
   "outputs": [
    {
     "name": "stdout",
     "output_type": "stream",
     "text": [
      "The p-value of our test is 0.19103526314060293\n",
      "We can accept the null hypothesis\n"
     ]
    }
   ],
   "source": [
    "# h0(null hypethesis) - there is a significant difference in the click-through rates between the two designs\n",
    "# h1(alternate hypethesis) - there is no significant difference in the click-through rates between the two designs\n",
    "from scipy.stats import chi2_contingency  \n",
    "    \n",
    "# defining our data  \n",
    "data = [[100, 120, 110, 90, 95], [80, 85, 90, 95, 100]]\n",
    "\n",
    "# Performing chi-square test  \n",
    "test, p_val, dof, expected_val = chi2_contingency(data) \n",
    "\n",
    "# interpreting the p-value  \n",
    "alpha = 0.05  \n",
    "print(\"The p-value of our test is \" + str(p_val))\n",
    "\n",
    "# Checking the hypothesis  \n",
    "if p_val <= alpha:  \n",
    "    print('We can reject the null hypothesis')  \n",
    "else:  \n",
    "    print('We can accept the null hypothesis') "
   ]
  },
  {
   "cell_type": "markdown",
   "id": "cd794eb8",
   "metadata": {},
   "source": [
    "# 13. Scenario: A survey is conducted to measure customer satisfaction with a product on a scale of 1 to 10. The data collected is as follows:\n",
    "    [7, 9, 6, 8, 10, 7, 8, 9, 7, 8]\n",
    "    Calculate the 95% confidence interval for the population mean satisfaction score.\n"
   ]
  },
  {
   "cell_type": "code",
   "execution_count": 45,
   "id": "0de5bdc6",
   "metadata": {},
   "outputs": [
    {
     "data": {
      "text/plain": [
       "array([7.2, 8.7])"
      ]
     },
     "execution_count": 45,
     "metadata": {},
     "output_type": "execute_result"
    }
   ],
   "source": [
    "import numpy as np \n",
    "from scipy.stats import t\n",
    "\n",
    "sample = [7, 9, 6, 8, 10, 7, 8, 9, 7, 8]\n",
    "x=np.array(sample)\n",
    "\n",
    "m = x.mean() \n",
    "s = x.std() \n",
    "dof = len(x)-1 \n",
    "confidence = 0.95\n",
    "\n",
    "t_crit = np.abs(t.ppf((1-confidence)/2,dof))\n",
    "\n",
    "(m-s*t_crit/np.sqrt(len(x)), m+s*t_crit/np.sqrt(len(x)))\n",
    "\n",
    "values = [np.random.choice(x,size=len(x),replace=True).mean() for i in range(1000)] \n",
    "np.percentile(values,[100*(1-confidence)/2,100*(1-(1-confidence)/2)])"
   ]
  },
  {
   "cell_type": "markdown",
   "id": "1e7663ee",
   "metadata": {},
   "source": [
    "# 14. Scenario: A company wants to analyze the effect of temperature on product performance. The data collected is as follows:\n",
    "    Temperature (in degrees Celsius): [20, 22, 23, 19, 21]\n",
    "    Performance (on a scale of 1 to 10): [8, 7, 9, 6, 8]\n",
    "    Perform a simple linear regression to predict performance based on temperature.\n"
   ]
  },
  {
   "cell_type": "code",
   "execution_count": 49,
   "id": "c969a2e2",
   "metadata": {},
   "outputs": [
    {
     "data": {
      "text/plain": [
       "array([[8.        ],\n",
       "       [6.71428571]])"
      ]
     },
     "execution_count": 49,
     "metadata": {},
     "output_type": "execute_result"
    }
   ],
   "source": [
    "import pandas as pd \n",
    "import numpy as np\n",
    "from sklearn.model_selection import train_test_split\n",
    "from sklearn.linear_model import LinearRegression\n",
    "\n",
    "data = pd.DataFrame({'Temperature':[20, 22, 23, 19, 21],'Performance':[8, 7, 9, 6, 8]})\n",
    "x = data.iloc[: , :-1]\n",
    "y = data.iloc[: , 1:2]\n",
    "X_train, X_test, y_train, y_test = train_test_split(x,y,test_size=1/3,random_state=0)\n",
    "regressor = LinearRegression()\n",
    "regressor.fit(X_train,y_train)\n",
    "y_pred = regressor.predict(X_test) \n",
    "y_pred"
   ]
  },
  {
   "cell_type": "markdown",
   "id": "575763ad",
   "metadata": {},
   "source": [
    "# 15. Scenario: A study is conducted to compare the preferences of two groups of participants. The preferences are measured on a Likert scale from 1 to 5. The data collected is as follows:\n",
    "    Group A: [4, 3, 5, 2, 4]  Group B: [3, 2, 4, 3, 3]\n",
    "    Perform a Mann-Whitney U test to determine if there is a significant difference in the median preferences between the two groups."
   ]
  },
  {
   "cell_type": "code",
   "execution_count": 50,
   "id": "3f673243",
   "metadata": {},
   "outputs": [
    {
     "name": "stdout",
     "output_type": "stream",
     "text": [
      "Statistics=17.00, p=0.38\n",
      "Do not Reject Null Hypothesis (No significant difference between two samples)\n"
     ]
    }
   ],
   "source": [
    "from scipy.stats import mannwhitneyu\n",
    "# Take batch 1 and batch 2 data as per above example\n",
    "group_a = [4, 3, 5, 2, 4]\n",
    "group_b = [3, 2, 4, 3, 3]\n",
    "  \n",
    "# perform mann whitney test\n",
    "stat, p_value = mannwhitneyu(group_a, group_b)\n",
    "print('Statistics=%.2f, p=%.2f' % (stat, p_value))\n",
    "# Level of significance\n",
    "alpha = 0.05\n",
    "# conclusion\n",
    "if p_value < alpha:\n",
    "    print('Reject Null Hypothesis (Significant difference between two samples)')\n",
    "else:\n",
    "    print('Do not Reject Null Hypothesis (No significant difference between two samples)')"
   ]
  },
  {
   "cell_type": "markdown",
   "id": "175bfa79",
   "metadata": {},
   "source": [
    "# 16. Scenario: A company wants to analyze the distribution of customer ages. The data collected is as follows:\n",
    "    [25, 30, 35, 40, 45, 50, 55, 60, 65, 70]\n",
    "    Calculate the interquartile range (IQR) of the ages.\n"
   ]
  },
  {
   "cell_type": "code",
   "execution_count": 52,
   "id": "e6a0154c",
   "metadata": {},
   "outputs": [
    {
     "name": "stdout",
     "output_type": "stream",
     "text": [
      "25.0\n"
     ]
    }
   ],
   "source": [
    "import numpy as np\n",
    "  \n",
    "data = [25, 30, 35, 40, 45, 50, 55, 60, 65, 70]\n",
    "  \n",
    "# First quartile (Q1)\n",
    "Q1 = np.median(data[:5])\n",
    "  \n",
    "# Third quartile (Q3)\n",
    "Q3 = np.median(data[5:])\n",
    "  \n",
    "# Interquartile range (IQR)\n",
    "IQR = Q3 - Q1\n",
    "  \n",
    "print(IQR)"
   ]
  },
  {
   "cell_type": "markdown",
   "id": "e87cc3d1",
   "metadata": {},
   "source": [
    "# 17. Scenario: A study is conducted to compare the performance of three different machine learning algorithms. The accuracy scores for each algorithm are as follows:\n",
    "    Algorithm A: [0.85, 0.80, 0.82, 0.87, 0.83]\n",
    "    Algorithm B: [0.78, 0.82, 0.84, 0.80, 0.79]\n",
    "    Algorithm C: [0.90, 0.88, 0.89, 0.86, 0.87]\n",
    "    Perform a Kruskal-Wallis test to determine if there is a significant difference in the median accuracy scores between the algorithms.\n"
   ]
  },
  {
   "cell_type": "code",
   "execution_count": 53,
   "id": "759dc28e",
   "metadata": {},
   "outputs": [
    {
     "name": "stdout",
     "output_type": "stream",
     "text": [
      "KruskalResult(statistic=9.696947935368053, pvalue=0.007840333026249539)\n"
     ]
    }
   ],
   "source": [
    "from scipy import stats\n",
    " \n",
    "# Defining data groups\n",
    "algo_a = [0.85, 0.80, 0.82, 0.87, 0.83]\n",
    "algo_b = [0.78, 0.82, 0.84, 0.80, 0.79]\n",
    "algo_c = [0.90, 0.88, 0.89, 0.86, 0.87]\n",
    " \n",
    "# Conduct the Kruskal-Wallis Test\n",
    "result = stats.kruskal(algo_a, algo_b, algo_c)\n",
    " \n",
    "# Print the result\n",
    "print(result)\n",
    "\n",
    "# In this example, the test statistic comes out to be equal to 9.696 and the corresponding p-value is 0.007. \n",
    "# As the p-value is less than 0.05, we can reject the null hypothesis that the median accuracy is not same for all three groups.\n",
    "# Hence, We  have sufficient proof to claim that the different types of algarithms used statistically significant differences in the accuracy scores."
   ]
  },
  {
   "cell_type": "markdown",
   "id": "91a96727",
   "metadata": {},
   "source": [
    "# 18. Scenario: A company wants to analyze the effect of price on sales. The data collected is as follows:\n",
    "    Price (in dollars): [10, 15, 12, 8, 14]\n",
    "    Sales: [100, 80, 90, 110, 95]\n",
    "    Perform a simple linear regression to predict\n",
    "\n",
    " sales based on price.\n"
   ]
  },
  {
   "cell_type": "code",
   "execution_count": 54,
   "id": "977d7791",
   "metadata": {},
   "outputs": [
    {
     "data": {
      "text/plain": [
       "array([[ 96.22093023],\n",
       "       [103.54651163]])"
      ]
     },
     "execution_count": 54,
     "metadata": {},
     "output_type": "execute_result"
    }
   ],
   "source": [
    "import pandas as pd \n",
    "import numpy as np\n",
    "from sklearn.model_selection import train_test_split\n",
    "from sklearn.linear_model import LinearRegression\n",
    "\n",
    "data = pd.DataFrame({'Price':[10, 15, 12, 8, 14],'sales':[100, 80, 90, 110, 95]})\n",
    "x = data.iloc[: , :-1]\n",
    "y = data.iloc[: , 1:2]\n",
    "X_train, X_test, y_train, y_test = train_test_split(x,y,test_size=1/3,random_state=0)\n",
    "regressor = LinearRegression()\n",
    "regressor.fit(X_train,y_train)\n",
    "y_pred = regressor.predict(X_test) \n",
    "y_pred"
   ]
  },
  {
   "cell_type": "markdown",
   "id": "6636dd4c",
   "metadata": {},
   "source": [
    "# 19. Scenario: A survey is conducted to measure the satisfaction levels of customers with a new product. The data collected is as follows:\n",
    "    [7, 8, 9, 6, 8, 7, 9, 7, 8, 7]\n",
    "    Calculate the standard error of the mean satisfaction score."
   ]
  },
  {
   "cell_type": "code",
   "execution_count": 55,
   "id": "d8e684c8",
   "metadata": {},
   "outputs": [
    {
     "name": "stdout",
     "output_type": "stream",
     "text": [
      "0.3055050463303893\n"
     ]
    }
   ],
   "source": [
    "import math\n",
    " \n",
    " \n",
    " # Function to find sample mean.\n",
    "def mean(arr, n) :\n",
    " \n",
    "    # loop to calculate\n",
    "    # sum of array elements.\n",
    "    sm = 0\n",
    "    for i in range(0,n) :\n",
    "        sm = sm + arr[i]\n",
    "      \n",
    "    return sm / n\n",
    " \n",
    " \n",
    " # Function to calculate sample\n",
    "# standard deviation.\n",
    "def SSD(arr, n) :\n",
    "    sm = 0\n",
    "    for i in range(0,n) :\n",
    "        sm = sm + (arr[i] - mean(arr, n)) * (arr[i] - mean(arr, n))\n",
    "  \n",
    "    return (math.sqrt(sm / (n - 1)))\n",
    "  \n",
    "  \n",
    " # Function to calculate sample error.\n",
    "def sampleError(arr, n) :\n",
    " \n",
    "    # Formula to find sample error.\n",
    "    return SSD(arr, n) / (math.sqrt(n))\n",
    "\n",
    "arr = [7, 8, 9, 6, 8, 7, 9, 7, 8, 7]\n",
    "n = len(arr)\n",
    "print(sampleError(arr, n))"
   ]
  },
  {
   "cell_type": "markdown",
   "id": "f4d2dcf4",
   "metadata": {},
   "source": [
    "# 20. Scenario: A company wants to analyze the relationship between advertising expenditure and sales. The data collected is as follows:\n",
    "    Advertising Expenditure (in thousands): [10, 15, 12, 8, 14]\n",
    "    Sales (in thousands): [25, 30, 28, 20, 26]\n",
    "    Perform a multiple regression analysis to predict sales based on advertising expenditure.\n"
   ]
  },
  {
   "cell_type": "code",
   "execution_count": 62,
   "id": "323b7726",
   "metadata": {},
   "outputs": [
    {
     "name": "stdout",
     "output_type": "stream",
     "text": [
      "mean_squared_error :  8.29772850189292\n",
      "mean_absolute_error :  2.8720930232558146\n"
     ]
    }
   ],
   "source": [
    "import pandas as pd \n",
    "import numpy as np\n",
    "import matplotlib.pyplot as plt\n",
    "import seaborn as sns\n",
    "from sklearn.model_selection import train_test_split\n",
    "from sklearn.linear_model import LinearRegression\n",
    "from sklearn.metrics import mean_squared_error, mean_absolute_error\n",
    "from sklearn import preprocessing\n",
    "\n",
    "\n",
    "df = pd.DataFrame({'advertising_Expenditure' : [10, 15, 12, 8, 14] , 'Sales' : [25, 30, 28, 20, 26] })\n",
    "\n",
    "x = df.iloc[: , :-1]\n",
    "y = df.iloc[: , 1:2]\n",
    "# creating train and test sets\n",
    "X_train, X_test, y_train, y_test = train_test_split(x, y, test_size=0.3, random_state=0)\n",
    "\n",
    "# creating a regression model\n",
    "model = LinearRegression()\n",
    "  \n",
    "# fitting the model\n",
    "model.fit(X_train, y_train)\n",
    "  \n",
    "# making predictions\n",
    "predictions = model.predict(X_test)\n",
    "  \n",
    "# model evaluation\n",
    "print('mean_squared_error : ', mean_squared_error(y_test, predictions))\n",
    "print('mean_absolute_error : ', mean_absolute_error(y_test, predictions))"
   ]
  },
  {
   "cell_type": "code",
   "execution_count": null,
   "id": "90f00000",
   "metadata": {},
   "outputs": [],
   "source": []
  },
  {
   "cell_type": "code",
   "execution_count": null,
   "id": "f7ff15e7",
   "metadata": {},
   "outputs": [],
   "source": []
  },
  {
   "cell_type": "code",
   "execution_count": null,
   "id": "d244e878",
   "metadata": {},
   "outputs": [],
   "source": []
  },
  {
   "cell_type": "markdown",
   "id": "8281eac6",
   "metadata": {},
   "source": []
  }
 ],
 "metadata": {
  "kernelspec": {
   "display_name": "Python 3 (ipykernel)",
   "language": "python",
   "name": "python3"
  },
  "language_info": {
   "codemirror_mode": {
    "name": "ipython",
    "version": 3
   },
   "file_extension": ".py",
   "mimetype": "text/x-python",
   "name": "python",
   "nbconvert_exporter": "python",
   "pygments_lexer": "ipython3",
   "version": "3.9.12"
  }
 },
 "nbformat": 4,
 "nbformat_minor": 5
}
